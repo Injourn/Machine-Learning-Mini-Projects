{
 "cells": [
  {
   "cell_type": "code",
   "execution_count": 1,
   "metadata": {},
   "outputs": [],
   "source": [
    "%matplotlib inline\n",
    "import random\n",
    "import torch\n",
    "from d2l import torch as d2l"
   ]
  },
  {
   "cell_type": "code",
   "execution_count": 2,
   "metadata": {},
   "outputs": [],
   "source": [
    "class SyntheticRegressionData(d2l.DataModule):  #@save\n",
    "    \"\"\"Synthetic data for linear regression.\"\"\"\n",
    "    def __init__(self, w, b, noise=0.01, num_train=1000, num_val=1000,\n",
    "                 batch_size=32):\n",
    "        super().__init__()\n",
    "        self.save_hyperparameters()\n",
    "        n = num_train + num_val\n",
    "        self.X = torch.randn(n, len(w))\n",
    "        noise = torch.randn(n, 1) * noise\n",
    "        self.y = torch.matmul(self.X, w.reshape((-1, 1))) + b + noise"
   ]
  },
  {
   "cell_type": "code",
   "execution_count": 3,
   "metadata": {},
   "outputs": [],
   "source": [
    "data = SyntheticRegressionData(w=torch.tensor([2, -3.4]), b=4.2)"
   ]
  },
  {
   "cell_type": "code",
   "execution_count": 4,
   "metadata": {},
   "outputs": [
    {
     "name": "stdout",
     "output_type": "stream",
     "text": [
      "features: tensor([ 0.7989, -0.4564]) \n",
      "label: tensor([7.3393])\n"
     ]
    }
   ],
   "source": [
    "print('features:', data.X[0],'\\nlabel:', data.y[0])"
   ]
  },
  {
   "cell_type": "code",
   "execution_count": 5,
   "metadata": {},
   "outputs": [],
   "source": [
    "@d2l.add_to_class(SyntheticRegressionData)\n",
    "def get_dataloader(self, train):\n",
    "    if train:\n",
    "        indices = list(range(0, self.num_train))\n",
    "        # The examples are read in random order\n",
    "        random.shuffle(indices)\n",
    "    else:\n",
    "        indices = list(range(self.num_train, self.num_train+self.num_val))\n",
    "    for i in range(0, len(indices), self.batch_size):\n",
    "        batch_indices = torch.tensor(indices[i: i+self.batch_size])\n",
    "        yield self.X[batch_indices], self.y[batch_indices]"
   ]
  },
  {
   "cell_type": "code",
   "execution_count": 6,
   "metadata": {},
   "outputs": [
    {
     "name": "stdout",
     "output_type": "stream",
     "text": [
      "X shape: torch.Size([32, 2]) \n",
      "y shape: torch.Size([32, 1])\n"
     ]
    }
   ],
   "source": [
    "X, y = next(iter(data.train_dataloader()))\n",
    "print('X shape:', X.shape, '\\ny shape:', y.shape)"
   ]
  },
  {
   "cell_type": "code",
   "execution_count": 7,
   "metadata": {},
   "outputs": [],
   "source": [
    "@d2l.add_to_class(d2l.DataModule)  #@save\n",
    "def get_tensorloader(self, tensors, train, indices=slice(0, None)):\n",
    "    tensors = tuple(a[indices] for a in tensors)\n",
    "    dataset = torch.utils.data.TensorDataset(*tensors)\n",
    "    return torch.utils.data.DataLoader(dataset, self.batch_size,\n",
    "                                       shuffle=train)\n",
    "\n",
    "@d2l.add_to_class(SyntheticRegressionData)  #@save\n",
    "def get_dataloader(self, train):\n",
    "    i = slice(0, self.num_train) if train else slice(self.num_train, None)\n",
    "    return self.get_tensorloader((self.X, self.y), train, i)"
   ]
  },
  {
   "cell_type": "code",
   "execution_count": 12,
   "metadata": {},
   "outputs": [
    {
     "name": "stdout",
     "output_type": "stream",
     "text": [
      "X shape: torch.Size([32, 2]) \n",
      "y shape: torch.Size([32, 1])\n",
      "tensor([[-0.5038,  0.7829],\n",
      "        [ 0.1493, -2.4396],\n",
      "        [ 0.1266,  0.3872],\n",
      "        [ 0.4122, -0.6263],\n",
      "        [-1.3054,  0.3417],\n",
      "        [ 1.1768, -0.1007],\n",
      "        [-0.5479, -0.2218],\n",
      "        [-0.9227, -1.6659],\n",
      "        [-0.6517, -1.5035],\n",
      "        [-1.5739,  0.1550],\n",
      "        [-0.0271,  0.3639],\n",
      "        [-1.6728, -0.5479],\n",
      "        [ 0.6649, -0.0966],\n",
      "        [ 0.3601,  0.1022],\n",
      "        [-2.2594,  0.1973],\n",
      "        [-0.3508,  0.0817],\n",
      "        [-1.1934, -0.5339],\n",
      "        [ 1.3513, -0.9496],\n",
      "        [ 0.3239,  2.1416],\n",
      "        [ 0.5009, -0.9392],\n",
      "        [ 1.3149,  0.7608],\n",
      "        [-0.3043,  1.0887],\n",
      "        [ 0.7096, -0.6095],\n",
      "        [-3.2573, -0.8107],\n",
      "        [-0.4208,  1.5207],\n",
      "        [-0.7282,  0.1532],\n",
      "        [ 0.0148, -1.0422],\n",
      "        [-0.5293, -1.0436],\n",
      "        [ 0.3269, -0.0885],\n",
      "        [-0.0898, -0.9685],\n",
      "        [ 1.0758, -1.3371],\n",
      "        [-0.5941, -0.4650]]) tensor([[ 0.5246],\n",
      "        [12.8132],\n",
      "        [ 3.1298],\n",
      "        [ 7.1544],\n",
      "        [ 0.4228],\n",
      "        [ 6.9002],\n",
      "        [ 3.8571],\n",
      "        [ 8.0187],\n",
      "        [ 8.0044],\n",
      "        [ 0.5222],\n",
      "        [ 2.9034],\n",
      "        [ 2.7120],\n",
      "        [ 5.8626],\n",
      "        [ 4.5784],\n",
      "        [-0.9916],\n",
      "        [ 3.2193],\n",
      "        [ 3.6159],\n",
      "        [10.1293],\n",
      "        [-2.4338],\n",
      "        [ 8.3980],\n",
      "        [ 4.2306],\n",
      "        [-0.1224],\n",
      "        [ 7.6956],\n",
      "        [ 0.4234],\n",
      "        [-1.8085],\n",
      "        [ 2.2316],\n",
      "        [ 7.7651],\n",
      "        [ 6.7023],\n",
      "        [ 5.1483],\n",
      "        [ 7.3161],\n",
      "        [10.9200],\n",
      "        [ 4.5912]])\n"
     ]
    }
   ],
   "source": [
    "X, y = next(iter(data.train_dataloader()))\n",
    "print('X shape:', X.shape, '\\ny shape:', y.shape)\n",
    "print(X,y)"
   ]
  },
  {
   "cell_type": "code",
   "execution_count": 9,
   "metadata": {},
   "outputs": [
    {
     "data": {
      "text/plain": [
       "32"
      ]
     },
     "execution_count": 9,
     "metadata": {},
     "output_type": "execute_result"
    }
   ],
   "source": [
    "len(data.train_dataloader())"
   ]
  }
 ],
 "metadata": {
  "kernelspec": {
   "display_name": "Python 3",
   "language": "python",
   "name": "python3"
  },
  "language_info": {
   "codemirror_mode": {
    "name": "ipython",
    "version": 3
   },
   "file_extension": ".py",
   "mimetype": "text/x-python",
   "name": "python",
   "nbconvert_exporter": "python",
   "pygments_lexer": "ipython3",
   "version": "3.10.5"
  },
  "orig_nbformat": 4
 },
 "nbformat": 4,
 "nbformat_minor": 2
}
