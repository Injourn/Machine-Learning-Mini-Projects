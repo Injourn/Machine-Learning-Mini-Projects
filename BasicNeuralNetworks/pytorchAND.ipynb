{
 "cells": [
  {
   "cell_type": "code",
   "execution_count": 1,
   "metadata": {},
   "outputs": [],
   "source": [
    "import torch\n",
    "from torch.autograd import Variable\n",
    "import torch.nn as nn\n",
    "import torch.optim as optim\n",
    "import numpy as np\n",
    "\n",
    "X = torch.Tensor([[0,0],[0,1],[1,0],[1,1]])\n",
    "Y = torch.Tensor([0,0,0,1]).view(-1,1)"
   ]
  },
  {
   "cell_type": "code",
   "execution_count": 2,
   "metadata": {},
   "outputs": [],
   "source": [
    "class AND(nn.Module):\n",
    "    def __init__(self,input_dim=2,output_dim=1):\n",
    "        super(AND,self).__init__()\n",
    "        self.lin1 = nn.Linear(input_dim,output_dim)\n",
    "\n",
    "    def forward(self, x):\n",
    "        x = self.lin1(x)\n",
    "        return x\n",
    "model = AND()\n"
   ]
  },
  {
   "cell_type": "code",
   "execution_count": 3,
   "metadata": {},
   "outputs": [],
   "source": [
    "def weights_init(model):\n",
    "    for m in model.modules():\n",
    "        if isinstance(m,nn.Linear):\n",
    "            m.weight.data.normal_(0,1)\n",
    "weights_init(model)"
   ]
  },
  {
   "cell_type": "code",
   "execution_count": 4,
   "metadata": {},
   "outputs": [],
   "source": [
    "loss_func = nn.MSELoss()\n",
    "optimizer = optim.SGD(model.parameters(), lr=0.02,momentum=0.9)"
   ]
  },
  {
   "cell_type": "code",
   "execution_count": 5,
   "metadata": {},
   "outputs": [
    {
     "name": "stdout",
     "output_type": "stream",
     "text": [
      "Epoch: 0, Loss: 0.9076581001281738, \n",
      "Epoch: 500, Loss: 0.04806326702237129, \n",
      "Epoch: 1000, Loss: 0.027184326201677322, \n",
      "Epoch: 1500, Loss: 0.14368939399719238, \n",
      "Epoch: 2000, Loss: 0.1805325150489807, \n"
     ]
    }
   ],
   "source": [
    "epochs = 2001\n",
    "steps = X.size(0)\n",
    "for i in range(epochs):\n",
    "    for j in range(steps):\n",
    "        data_point = np.random.randint(X.size(0))\n",
    "        x_var = Variable(X[data_point],requires_grad=False)\n",
    "        y_var = Variable(Y[data_point],requires_grad=False)\n",
    "\n",
    "        optimizer.zero_grad()\n",
    "        y_hat = model(x_var) # predicted y's\n",
    "        loss = loss_func.forward(y_hat,y_var)\n",
    "        loss.backward()\n",
    "        optimizer.step()\n",
    "    \n",
    "    if i% 500 == 0:\n",
    "        print(\"Epoch: {0}, Loss: {1}, \".format(i, loss.data.numpy()))"
   ]
  },
  {
   "cell_type": "code",
   "execution_count": 7,
   "metadata": {},
   "outputs": [
    {
     "name": "stdout",
     "output_type": "stream",
     "text": [
      "tensor([-0.4184], grad_fn=<AddBackward0>)\n",
      "tensor([0.2091], grad_fn=<AddBackward0>)\n",
      "tensor([0.1230], grad_fn=<AddBackward0>)\n",
      "tensor([0.7505], grad_fn=<AddBackward0>)\n"
     ]
    }
   ],
   "source": [
    "print(model(torch.tensor([0,0]).float()))\n",
    "print(model(torch.tensor([0,1]).float()))\n",
    "print(model(torch.tensor([1,0]).float()))\n",
    "print(model(torch.tensor([1,1]).float()))"
   ]
  }
 ],
 "metadata": {
  "kernelspec": {
   "display_name": "Python 3.10.5 64-bit",
   "language": "python",
   "name": "python3"
  },
  "language_info": {
   "codemirror_mode": {
    "name": "ipython",
    "version": 3
   },
   "file_extension": ".py",
   "mimetype": "text/x-python",
   "name": "python",
   "nbconvert_exporter": "python",
   "pygments_lexer": "ipython3",
   "version": "3.10.5"
  },
  "orig_nbformat": 4,
  "vscode": {
   "interpreter": {
    "hash": "80ca3b8c96389472cfc8a3d17b6b6c30e7062ea14d74503373ed131c0d8a118b"
   }
  }
 },
 "nbformat": 4,
 "nbformat_minor": 2
}
