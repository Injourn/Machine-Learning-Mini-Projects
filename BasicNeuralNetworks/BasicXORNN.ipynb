{
 "cells": [
  {
   "cell_type": "code",
   "execution_count": 64,
   "metadata": {},
   "outputs": [],
   "source": [
    "import numpy,random, os\n",
    "lr = .01\n",
    "bias = 1\n",
    "weights = [random.random(),random.random(),random.random(),random.random(),random.random(),random.random(),random.random(),random.random(),random.random()]\n",
    "\n",
    "def sigm(x):\n",
    "    return 1/(1+numpy.exp(-x))\n",
    "\n",
    "def derivativeSigm(x):\n",
    "    return x*(1-x)\n",
    "\n",
    "def Perceptron2(input1,input2,output) :\n",
    "    h1 = sigm(input1*weights[0]+input2*weights[1])#+bias*weights[2]) #h1 and h2 are hidden layers\n",
    "    h2 = sigm(input1*weights[3]+input2*weights[4])#+bias*weights[5])\n",
    "    outputP = h1*weights[6]+h2*weights[7]#+bias*weights[8]\n",
    "    # if outputP > 0 :\n",
    "    #     outputP = 1\n",
    "    # else :\n",
    "    #     outputP = 0\n",
    "    error = output - outputP\n",
    "    delta1 = error * lr\n",
    "    weights[6] += (h1 * delta1)\n",
    "    weights[7] += (h2 * delta1)\n",
    "    #weights[8] += bias * delta1\n",
    "    delta2 = delta1 * weights[6]*derivativeSigm(h1) + delta1*weights[7]*derivativeSigm(h2) #+ delta1*weights[8] * bias\n",
    "    weights[0] += input1 * delta2\n",
    "    weights[3] += input1 * delta2\n",
    "    weights[1] += input2 * delta2\n",
    "    weights[4] += input2 * delta2\n",
    "    #weights[2] += bias * delta2\n",
    "    #weights[5] += bias * delta2\n",
    "\n",
    "for i in range(10000) :\n",
    "    Perceptron2(1,1,-1)\n",
    "    Perceptron2(1,0,1)\n",
    "    Perceptron2(0,1,1)\n",
    "    Perceptron2(0,0,-1)"
   ]
  },
  {
   "cell_type": "code",
   "execution_count": 65,
   "metadata": {},
   "outputs": [
    {
     "name": "stdout",
     "output_type": "stream",
     "text": [
      "1  XOR  1  is  0 (Sigmoid is) 1.1823786144153247e-37\n",
      "1  XOR  0  is  0 (Sigmoid is) 0.467718764867775\n",
      "0  XOR  1  is  0 (Sigmoid is) 1.129173580337241e-37\n",
      "0  XOR  0  is  0 (Sigmoid is) 3.3602005240271866e-19\n",
      "[-6.4492055377338176, 14.135920291721431, 0.8305492139156884, -6.527441724604866, 13.904156375890006, 0.6024935626028826, -42.50996626295954, -42.56426596688552, 0.5155320130391967]\n"
     ]
    }
   ],
   "source": [
    "def prop(x,y):\n",
    "    h1o = sigm(x*weights[0]+y*weights[1])#+bias*weights[2]) #h1 and h2 are hidden layers\n",
    "    h2o = sigm(x*weights[3]+y*weights[4])#+bias*weights[5])\n",
    "    outputPo = h1o*weights[6]+h2o*weights[7]#+bias*weights[8]\n",
    "    outputSigmoid = 1/(1+numpy.exp(-outputPo))\n",
    "    if outputPo > 0 :\n",
    "        outputPo = 1\n",
    "    else :\n",
    "        outputPo = 0\n",
    "    print( x, \" XOR \", y, \" is \", outputPo,\"(Sigmoid is)\",outputSigmoid)\n",
    "\n",
    "prop(1,1)\n",
    "prop(1,0)\n",
    "prop(0,1)\n",
    "prop(0,0)\n",
    "print(weights)"
   ]
  }
 ],
 "metadata": {
  "kernelspec": {
   "display_name": "Python 3.10.5 64-bit",
   "language": "python",
   "name": "python3"
  },
  "language_info": {
   "codemirror_mode": {
    "name": "ipython",
    "version": 3
   },
   "file_extension": ".py",
   "mimetype": "text/x-python",
   "name": "python",
   "nbconvert_exporter": "python",
   "pygments_lexer": "ipython3",
   "version": "3.10.5"
  },
  "orig_nbformat": 4,
  "vscode": {
   "interpreter": {
    "hash": "80ca3b8c96389472cfc8a3d17b6b6c30e7062ea14d74503373ed131c0d8a118b"
   }
  }
 },
 "nbformat": 4,
 "nbformat_minor": 2
}
