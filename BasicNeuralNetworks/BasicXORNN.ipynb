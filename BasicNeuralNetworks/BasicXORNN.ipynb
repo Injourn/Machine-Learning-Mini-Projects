{
 "cells": [
  {
   "cell_type": "code",
   "execution_count": 4,
   "metadata": {},
   "outputs": [],
   "source": [
    "import numpy,random, os\n",
    "lr = .1\n",
    "bias = 1\n",
    "weights = [random.random(),random.random(),random.random(),random.random(),random.random(),random.random()]\n",
    "\n",
    "def sigm(x):\n",
    "    return 1/(1+numpy.exp(-x))\n",
    "\n",
    "def derivativeSigm(x):\n",
    "    return x*(1-x)\n",
    "\n",
    "def Perceptron2(input1,input2,output) :\n",
    "    h1 = input1*weights[0]+input2*weights[1]#+bias*weights[2]) #h1 and h2 are hidden layers\n",
    "    h2 = input1*weights[2]+input2*weights[3]#+bias*weights[5])\n",
    "    h1a = sigm(h1)\n",
    "    h2a = sigm(h2)    \n",
    "    outputP = h1a*weights[4]+h2a*weights[5]#+bias*weights[8]\n",
    "    # if outputP > 0 :\n",
    "    #     outputP = 1\n",
    "    # else :\n",
    "    #     outputP = 0\n",
    "    error = output - outputP\n",
    "    delta1 = error * lr\n",
    "    weights[4] += (h1a * delta1)\n",
    "    weights[5] += (h2a * delta1)\n",
    "    #weights[8] += bias * delta1\n",
    "    \n",
    "    weights[0] += input1 * weights[4] * derivativeSigm(h1a) * delta1\n",
    "    weights[2] += input1 * weights[5] * derivativeSigm(h2a) * delta1\n",
    "    weights[1] += input2 * weights[4] * derivativeSigm(h1a) * delta1\n",
    "    weights[3] += input2 * weights[5] * derivativeSigm(h2a) * delta1\n",
    "    #weights[2] += bias * delta2\n",
    "    #weights[5] += bias * delta2\n",
    "\n",
    "for i in range(10000) :\n",
    "    Perceptron2(1,1,-1)\n",
    "    Perceptron2(1,0,1)\n",
    "    Perceptron2(0,1,1)\n",
    "    Perceptron2(0,0,-1)"
   ]
  },
  {
   "cell_type": "code",
   "execution_count": 5,
   "metadata": {},
   "outputs": [
    {
     "name": "stdout",
     "output_type": "stream",
     "text": [
      "1  XOR  1  is  0 (Sigmoid is) 0.26972490563998\n",
      "1  XOR  0  is  1 (Sigmoid is) 0.7310589745798537\n",
      "0  XOR  1  is  1 (Sigmoid is) 0.7310094470490105\n",
      "0  XOR  0  is  0 (Sigmoid is) 0.2685447872185928\n",
      "[1.2710889599875952, 1.2715771852906952, 6.179713635176349, 6.217438308414116, -13.82414425524366, 11.820107681808404]\n"
     ]
    }
   ],
   "source": [
    "def prop(x,y):\n",
    "    h1o = x*weights[0]+y*weights[1]#+bias*weights[2]) #h1 and h2 are hidden layers\n",
    "    h2o = x*weights[2]+y*weights[3]#+bias*weights[5])\n",
    "    h1ao = sigm(h1o)\n",
    "    h2ao = sigm(h2o)\n",
    "    outputPo = h1ao*weights[4]+h2ao*weights[5]#+bias*weights[8]\n",
    "    outputSigmoid = 1/(1+numpy.exp(-outputPo))\n",
    "    if outputPo > 0 :\n",
    "        outputPo = 1\n",
    "    else :\n",
    "        outputPo = 0\n",
    "    print( x, \" XOR \", y, \" is \", outputPo,\"(Sigmoid is)\",outputSigmoid)\n",
    "\n",
    "prop(1,1)\n",
    "prop(1,0)\n",
    "prop(0,1)\n",
    "prop(0,0)\n",
    "print(weights)"
   ]
  }
 ],
 "metadata": {
  "kernelspec": {
   "display_name": "Python 3.10.5 64-bit",
   "language": "python",
   "name": "python3"
  },
  "language_info": {
   "codemirror_mode": {
    "name": "ipython",
    "version": 3
   },
   "file_extension": ".py",
   "mimetype": "text/x-python",
   "name": "python",
   "nbconvert_exporter": "python",
   "pygments_lexer": "ipython3",
   "version": "3.10.5"
  },
  "orig_nbformat": 4,
  "vscode": {
   "interpreter": {
    "hash": "80ca3b8c96389472cfc8a3d17b6b6c30e7062ea14d74503373ed131c0d8a118b"
   }
  }
 },
 "nbformat": 4,
 "nbformat_minor": 2
}
