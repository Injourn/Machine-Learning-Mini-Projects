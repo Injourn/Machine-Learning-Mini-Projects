{
 "cells": [
  {
   "cell_type": "code",
   "execution_count": 6,
   "metadata": {},
   "outputs": [],
   "source": [
    "import numpy, random, os\n",
    "lr = 1\n",
    "bias = 1\n",
    "weights = [random.random(),random.random(),random.random()]\n",
    "\n",
    "def Percepton(input1,input2,output) :\n",
    "    outputP = input1*weights[0]+input2*weights[1]+bias*weights[2]\n",
    "    if outputP > 0 :\n",
    "        outputP = 1\n",
    "    else :\n",
    "        outputP = 0\n",
    "    error = output - outputP\n",
    "    weights[0] += error * input1 * lr\n",
    "    weights[1] += error * input2 * lr\n",
    "    weights[2] += error * bias * lr\n",
    "\n",
    "for i in range(50) :\n",
    "    Percepton(1,1,1)\n",
    "    Percepton(1,0,0)\n",
    "    Percepton(0,1,0)\n",
    "    Percepton(0,0,0)"
   ]
  },
  {
   "cell_type": "code",
   "execution_count": 10,
   "metadata": {},
   "outputs": [
    {
     "name": "stdout",
     "output_type": "stream",
     "text": [
      "[1.1059392942735586, 2.0862078174766925, -2.5098967741072364]\n",
      "0  AND  1  is  0\n"
     ]
    }
   ],
   "source": [
    "x = int(input())\n",
    "y = int(input())\n",
    "outputP = x*weights[0]+y*weights[1]+bias*weights[2]\n",
    "if outputP > 0 :\n",
    "    outputP = 1\n",
    "else :\n",
    "    outputP = 0\n",
    "print(weights)\n",
    "print( x, \" AND \", y, \" is \", outputP)"
   ]
  }
 ],
 "metadata": {
  "kernelspec": {
   "display_name": "Python 3.10.5 64-bit",
   "language": "python",
   "name": "python3"
  },
  "language_info": {
   "codemirror_mode": {
    "name": "ipython",
    "version": 3
   },
   "file_extension": ".py",
   "mimetype": "text/x-python",
   "name": "python",
   "nbconvert_exporter": "python",
   "pygments_lexer": "ipython3",
   "version": "3.10.5"
  },
  "orig_nbformat": 4,
  "vscode": {
   "interpreter": {
    "hash": "80ca3b8c96389472cfc8a3d17b6b6c30e7062ea14d74503373ed131c0d8a118b"
   }
  }
 },
 "nbformat": 4,
 "nbformat_minor": 2
}
