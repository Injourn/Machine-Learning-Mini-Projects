{
 "cells": [
  {
   "cell_type": "code",
   "execution_count": 15,
   "metadata": {},
   "outputs": [],
   "source": [
    "import  numpy,random, os\n",
    "lr = 1\n",
    "bias = 1\n",
    "weights = [random.random(),random.random(),random.random()]\n",
    "\n",
    "def Perceptron(input1,input2,output) :\n",
    "    outputP = input1*weights[0] + input2*weights[1]+bias*weights[2]\n",
    "    if outputP > 0 :\n",
    "        outputP = 1\n",
    "    else :\n",
    "        outputP = 0\n",
    "    error = output - outputP\n",
    "    weights[0] += error * input1 * lr\n",
    "    weights[1] += error * input2 * lr\n",
    "    weights[2] += error * bias * lr\n",
    "\n",
    "for i in range(30) :\n",
    "    Perceptron(1,1,1)\n",
    "    Perceptron(1,0,1)\n",
    "    Perceptron(0,1,1)\n",
    "    Perceptron(0,0,0)"
   ]
  },
  {
   "cell_type": "code",
   "execution_count": 18,
   "metadata": {},
   "outputs": [
    {
     "name": "stdout",
     "output_type": "stream",
     "text": [
      "1 or 0 is :  0 (Sigmoid is) 0.46567096326138574\n",
      "[0.5387777293740431, 0.5389786778603409, -0.6763102549384062]\n"
     ]
    }
   ],
   "source": [
    "x = int(input())\n",
    "y = int(input())\n",
    "outputP = x*weights[0] + y*weights[1] + bias*weights[2]\n",
    "outputSigmoid = 1/(1+numpy.exp(-outputP))\n",
    "if outputP > 0 : #activation function\n",
    "   outputP = 1\n",
    "else :\n",
    "   outputP = 0\n",
    "print(x, \"or\", y, \"is : \", outputP, \"(Sigmoid is)\",outputSigmoid)\n",
    "print(weights)"
   ]
  }
 ],
 "metadata": {
  "kernelspec": {
   "display_name": "Python 3.10.5 64-bit",
   "language": "python",
   "name": "python3"
  },
  "language_info": {
   "codemirror_mode": {
    "name": "ipython",
    "version": 3
   },
   "file_extension": ".py",
   "mimetype": "text/x-python",
   "name": "python",
   "nbconvert_exporter": "python",
   "pygments_lexer": "ipython3",
   "version": "3.10.5"
  },
  "orig_nbformat": 4,
  "vscode": {
   "interpreter": {
    "hash": "80ca3b8c96389472cfc8a3d17b6b6c30e7062ea14d74503373ed131c0d8a118b"
   }
  }
 },
 "nbformat": 4,
 "nbformat_minor": 2
}
