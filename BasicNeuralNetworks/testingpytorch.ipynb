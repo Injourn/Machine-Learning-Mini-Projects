{
 "cells": [
  {
   "cell_type": "code",
   "execution_count": 3,
   "metadata": {},
   "outputs": [
    {
     "name": "stdout",
     "output_type": "stream",
     "text": [
      "Ones Tensor: \n",
      " tensor([[1, 1],\n",
      "        [1, 1]]) \n",
      "\n",
      "Random Tensor: \n",
      " tensor([[0.0955, 0.7914],\n",
      "        [0.2962, 0.3224]]) \n",
      "\n"
     ]
    }
   ],
   "source": [
    "#Credit to: https://courses.cs.washington.edu/courses/cse446/18wi/sections/section8/XOR-Pytorch.html\n",
    "\n",
    "import torch\n",
    "data = [[1,2],[3,4]]\n",
    "x_data = torch.tensor(data)\n",
    "x_ones = torch.ones_like(x_data)\n",
    "x_rand = torch.rand_like(x_data, dtype=torch.float)\n",
    "\n",
    "print(f\"Ones Tensor: \\n {x_ones} \\n\")\n",
    "print(f\"Random Tensor: \\n {x_rand} \\n\")"
   ]
  },
  {
   "cell_type": "code",
   "execution_count": 27,
   "metadata": {},
   "outputs": [],
   "source": [
    "from torch.autograd import Variable\n",
    "import torch.nn as nn\n",
    "import torch.optim as optim\n",
    "import numpy as np\n",
    "import matplotlib.pyplot as plt\n",
    "\n",
    "X = torch.Tensor([[0,0],[0,1],[1,0],[1,1]])\n",
    "Y = torch.Tensor([0,1,1,0]).view(-1,1)\n"
   ]
  },
  {
   "cell_type": "code",
   "execution_count": 28,
   "metadata": {},
   "outputs": [],
   "source": [
    "class XOR(nn.Module):\n",
    "    def __init__(self,input_dim = 2, output_dim=1):\n",
    "        super(XOR, self).__init__()\n",
    "        self.lin1 = nn.Linear(input_dim,2)\n",
    "        self.lin2 = nn.Linear(2,output_dim)\n",
    "    \n",
    "    def forward(self,x):\n",
    "        x = self.lin1(x)\n",
    "        x = torch.sigmoid(x)\n",
    "        x = self.lin2(x)\n",
    "        return x"
   ]
  },
  {
   "cell_type": "code",
   "execution_count": 7,
   "metadata": {},
   "outputs": [],
   "source": [
    "model = XOR()"
   ]
  },
  {
   "cell_type": "code",
   "execution_count": 9,
   "metadata": {},
   "outputs": [],
   "source": [
    "def weights_init(model):\n",
    "    for m in model.modules():\n",
    "        if isinstance(m, nn.Linear):\n",
    "            # initialize the weight tensor, here we use a normal distribution\n",
    "            m.weight.data.normal_(0, 1)\n",
    "\n",
    "weights_init(model)"
   ]
  },
  {
   "cell_type": "code",
   "execution_count": 10,
   "metadata": {},
   "outputs": [],
   "source": [
    "loss_func = nn.MSELoss()\n",
    "optimizer = optim.SGD(model.parameters(), lr=0.02, momentum=0.9)"
   ]
  },
  {
   "cell_type": "code",
   "execution_count": 18,
   "metadata": {},
   "outputs": [
    {
     "name": "stderr",
     "output_type": "stream",
     "text": [
      "c:\\Users\\Scott Hamilton\\AppData\\Local\\Programs\\Python\\Python310\\lib\\site-packages\\torch\\nn\\functional.py:1960: UserWarning: nn.functional.sigmoid is deprecated. Use torch.sigmoid instead.\n",
      "  warnings.warn(\"nn.functional.sigmoid is deprecated. Use torch.sigmoid instead.\")\n"
     ]
    },
    {
     "name": "stdout",
     "output_type": "stream",
     "text": [
      "Epoch: 0, Loss: 0.0341990701854229, \n",
      "Epoch: 500, Loss: 0.0038479745853692293, \n",
      "Epoch: 1000, Loss: 2.877698079828406e-13, \n",
      "Epoch: 1500, Loss: 1.2789769243681803e-13, \n",
      "Epoch: 2000, Loss: 1.7408297026122455e-13, \n"
     ]
    }
   ],
   "source": [
    "epochs = 2001\n",
    "steps = X.size(0)\n",
    "for i in range(epochs):\n",
    "    for j in range(steps):\n",
    "        data_point = np.random.randint(X.size(0))\n",
    "        x_var = Variable(X[data_point],requires_grad=False)\n",
    "        y_var = Variable(Y[data_point],requires_grad=False)\n",
    "\n",
    "        optimizer.zero_grad()\n",
    "        y_hat = model(x_var) # predicted y's\n",
    "        loss = loss_func.forward(y_hat,y_var)\n",
    "        loss.backward()\n",
    "        optimizer.step()\n",
    "    \n",
    "    if i% 500 == 0:\n",
    "        print(\"Epoch: {0}, Loss: {1}, \".format(i, loss.data.numpy()))"
   ]
  },
  {
   "cell_type": "code",
   "execution_count": 19,
   "metadata": {},
   "outputs": [],
   "source": [
    "model_params = list(model.parameters())"
   ]
  },
  {
   "cell_type": "code",
   "execution_count": 20,
   "metadata": {},
   "outputs": [
    {
     "data": {
      "image/png": "[encoded data removed]",
      "text/plain": [
       "<Figure size 432x288 with 1 Axes>"
      ]
     },
     "metadata": {
      "needs_background": "light"
     },
     "output_type": "display_data"
    }
   ],
   "source": [
    "model_weights = model_params[0].data.numpy()\n",
    "model_bias = model_params[1].data.numpy()\n",
    "\n",
    "plt.scatter(X.numpy()[[0,-1],0],X.numpy()[[0,-1],1], s=50)\n",
    "plt.scatter(X.numpy()[[1,2], 0], X.numpy()[[1, 2], 1], c='red', s=50)\n",
    "\n",
    "x_1 = np.arange(-0.1, 1.1, 0.1)\n",
    "y_1 = ((x_1 * model_weights[0,0]) + model_bias[0]) / (-model_weights[0,1])\n",
    "plt.plot(x_1, y_1)\n",
    "\n",
    "x_2 = np.arange(-0.1, 1.1, 0.1)\n",
    "y_2 = ((x_2 * model_weights[1,0]) + model_bias[1]) / (-model_weights[1,1])\n",
    "plt.plot(x_2, y_2)\n",
    "plt.legend([\"neuron_1\", \"neuron_2\"], loc=8)\n",
    "plt.show()"
   ]
  },
  {
   "cell_type": "code",
   "execution_count": 35,
   "metadata": {},
   "outputs": [
    {
     "name": "stdout",
     "output_type": "stream",
     "text": [
      "tensor([4.1723e-07], grad_fn=<AddBackward0>)\n"
     ]
    }
   ],
   "source": [
    "print(model(torch.tensor([1,1]).float()))"
   ]
  }
 ],
 "metadata": {
  "kernelspec": {
   "display_name": "Python 3.10.5 64-bit",
   "language": "python",
   "name": "python3"
  },
  "language_info": {
   "codemirror_mode": {
    "name": "ipython",
    "version": 3
   },
   "file_extension": ".py",
   "mimetype": "text/x-python",
   "name": "python",
   "nbconvert_exporter": "python",
   "pygments_lexer": "ipython3",
   "version": "3.10.5"
  },
  "orig_nbformat": 4,
  "vscode": {
   "interpreter": {
    "hash": "80ca3b8c96389472cfc8a3d17b6b6c30e7062ea14d74503373ed131c0d8a118b"
   }
  }
 },
 "nbformat": 4,
 "nbformat_minor": 2
}
