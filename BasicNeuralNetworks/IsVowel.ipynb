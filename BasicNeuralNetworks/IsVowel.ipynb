{
 "cells": [
  {
   "cell_type": "code",
   "execution_count": 11,
   "metadata": {},
   "outputs": [
    {
     "name": "stdout",
     "output_type": "stream",
     "text": [
      "['a', 'b', 'c', 'd', 'e', 'f', 'g', 'h', 'i', 'j', 'k', 'l', 'm', 'n', 'o', 'p', 'q', 'r', 's', 't', 'u', 'v', 'w', 'x', 'y', 'z']\n",
      "range(0, 26)\n",
      "tensor([0., 0., 0., 0., 0., 0., 0., 0., 0., 0., 0., 0., 0., 0., 0., 0., 0., 0., 0., 0., 0., 0., 0., 0.,\n",
      "        0., 0.])\n"
     ]
    }
   ],
   "source": [
    "#First attempt at creating a nn from scratch\n",
    "\n",
    "import torch\n",
    "import numpy\n",
    "\n",
    "letters = \"abcdefghijklmnopqrstuvwxyz\"\n",
    "\n",
    "lst = list(letters)\n",
    "\n",
    "inputTensor = torch.zeros(26)\n",
    "\n",
    "\n",
    "print(lst)\n",
    "print(inputTensor)"
   ]
  },
  {
   "cell_type": "code",
   "execution_count": 20,
   "metadata": {},
   "outputs": [],
   "source": [
    "def isVowel(index):\n",
    "    return {charToInt('a'),charToInt('e'),charToInt('i'),charToInt('o'),charToInt('u')}.__contains__(index)\n",
    "\n",
    "def charToInt(char):\n",
    "    return ord(char) - 97\n",
    "\n",
    "def charToTensor(char):\n",
    "    tensor = torch.zeros(26)\n",
    "    tensor[charToInt(char)] = 1\n",
    "    return tensor"
   ]
  },
  {
   "cell_type": "code",
   "execution_count": 13,
   "metadata": {},
   "outputs": [],
   "source": [
    "class NN(torch.nn.Module):\n",
    "    def __init__(self,input_dim=26,output_dim=2):\n",
    "        super(NN,self).__init__()\n",
    "        self.lin1 = torch.nn.Linear(input_dim,output_dim)\n",
    "\n",
    "    def forward(self, input):\n",
    "        output = self.lin1(input)\n",
    "        return output"
   ]
  },
  {
   "cell_type": "code",
   "execution_count": 14,
   "metadata": {},
   "outputs": [],
   "source": [
    "model = NN()\n",
    "\n",
    "def weightsInit(model):\n",
    "    for m in model.modules():\n",
    "        if isinstance(m,torch.nn.Linear):\n",
    "            m.weight.data.normal_(0,1)\n",
    "weightsInit(model)"
   ]
  },
  {
   "cell_type": "code",
   "execution_count": 15,
   "metadata": {},
   "outputs": [],
   "source": [
    "loss_func = torch.nn.MSELoss()\n",
    "optimizer = torch.optim.SGD(model.parameters(), lr=0.02,momentum=0.9)"
   ]
  },
  {
   "cell_type": "code",
   "execution_count": 30,
   "metadata": {},
   "outputs": [
    {
     "name": "stdout",
     "output_type": "stream",
     "text": [
      "Epoch: 0, Loss: 0.13221104443073273, \n",
      "Epoch: 500, Loss: 7.105427357601002e-15, \n",
      "Epoch: 1000, Loss: 2.3092638912203256e-14, \n",
      "Epoch: 1500, Loss: 8.881784197001252e-15, \n"
     ]
    }
   ],
   "source": [
    "from random import randrange\n",
    "\n",
    "\n",
    "epochs = 2000\n",
    "for i in range(epochs):\n",
    "    for j in range(letters.__sizeof__()):\n",
    "        letter = letters[randrange(26)]\n",
    "        desiredOutput = torch.Tensor([0,1])\n",
    "        if(isVowel(charToInt(letter))):\n",
    "            desiredOutput = torch.Tensor([1,0])\n",
    "\n",
    "        optimizer.zero_grad()\n",
    "        output = model(charToTensor(letter))\n",
    "        loss = loss_func.forward(output,desiredOutput)\n",
    "        loss.backward()\n",
    "        optimizer.step()\n",
    "        \n",
    "    if i% 500 == 0:\n",
    "        print(\"Epoch: {0}, Loss: {1}, \".format(i, loss.data.numpy()))\n",
    "\n"
   ]
  },
  {
   "cell_type": "code",
   "execution_count": 31,
   "metadata": {},
   "outputs": [
    {
     "name": "stdout",
     "output_type": "stream",
     "text": [
      "tensor([1.0000e+00, 2.9802e-07], grad_fn=<AddBackward0>)\n",
      "tensor([-5.9605e-08,  1.0000e+00], grad_fn=<AddBackward0>)\n",
      "tensor([1.1921e-07, 1.0000e+00], grad_fn=<AddBackward0>)\n",
      "tensor([-2.9802e-08,  1.0000e+00], grad_fn=<AddBackward0>)\n",
      "tensor([ 1.0000e+00, -3.5763e-07], grad_fn=<AddBackward0>)\n"
     ]
    }
   ],
   "source": [
    "print(model(charToTensor('a')))\n",
    "print(model(charToTensor('b')))\n",
    "print(model(charToTensor('c')))\n",
    "print(model(charToTensor('d')))\n",
    "print(model(charToTensor('e')))"
   ]
  }
 ],
 "metadata": {
  "kernelspec": {
   "display_name": "Python 3.10.5 64-bit",
   "language": "python",
   "name": "python3"
  },
  "language_info": {
   "codemirror_mode": {
    "name": "ipython",
    "version": 3
   },
   "file_extension": ".py",
   "mimetype": "text/x-python",
   "name": "python",
   "nbconvert_exporter": "python",
   "pygments_lexer": "ipython3",
   "version": "3.10.5"
  },
  "orig_nbformat": 4,
  "vscode": {
   "interpreter": {
    "hash": "80ca3b8c96389472cfc8a3d17b6b6c30e7062ea14d74503373ed131c0d8a118b"
   }
  }
 },
 "nbformat": 4,
 "nbformat_minor": 2
}
