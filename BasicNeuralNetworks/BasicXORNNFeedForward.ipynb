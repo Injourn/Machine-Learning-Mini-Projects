{
 "cells": [
  {
   "cell_type": "code",
   "execution_count": 4,
   "metadata": {},
   "outputs": [],
   "source": [
    "import numpy as np\n",
    "def sigm(x):\n",
    "    return 1/(1+ np.exp(-x))\n",
    "\n",
    "# Derivative of Sigmoid Function\n",
    "def der(x): # takes sigmoid of x\n",
    "    return x*(1-x)\n",
    "\n",
    "# Propogation\n",
    "def prop(lr, epochs, noise):\n",
    "    \n",
    "    # Variables Initialization\n",
    "    \n",
    "    x = np.array([[1,1],[0,0],[1,0],[0,1]])    # Input matrix\n",
    "    x = np.random.normal(loc=x, scale=noise)   # adding gaussian noise\n",
    "    y = np.array([[1],[1],[-1],[-1]])          # Target Output\n",
    "    w_hidden = np.random.rand(2,2)             # 2x2 random Hidden weights\n",
    "    w_out = np.random.rand(2,1)                # 2x1 random output weights\n",
    "\n",
    "    in_h = np.zeros((4,2))                     # Input at Hidden Layer\n",
    "    out_h = np.zeros((4,2))                    # Output from Hidden Layer\n",
    "    out_y = np.zeros((4,1))                    # Estimated Output\n",
    "\n",
    "    for i in range(epochs):\n",
    "    \n",
    "    # Forward Propogation\n",
    "        in_h = np.matmul(x,w_hidden)\n",
    "        out_h = sigm(in_h)\n",
    "        out_y = np.matmul(out_h, w_out)\n",
    "    \n",
    "    # Backward Propogation\n",
    "        error = y - out_y\n",
    "        del_2 = error * lr\n",
    "        w_out = w_out + np.matmul(out_h.T, del_2)\n",
    "    \n",
    "        del_1 = np.matmul(del_2, w_out.T) * der(out_h)\n",
    "        w_hidden = w_hidden + np.matmul(x.T, del_1)\n",
    "        \n",
    "    return(w_hidden, w_out)\n",
    "\n",
    "# Predict function uses weights to predict outputs on new inputs\n",
    "def predict(x, W_hidden, W_out):\n",
    "    in_h = np.matmul(x,W_hidden)\n",
    "    out_h = sigm(in_h)\n",
    "    out_y = np.matmul(out_h,W_out)\n",
    "    return out_y"
   ]
  },
  {
   "cell_type": "code",
   "execution_count": 6,
   "metadata": {},
   "outputs": [],
   "source": [
    "lr = 0.01         # Learning Rate\n",
    "epochs = 100000   # Epochs\n",
    "noise = 0      # Gaussian Noise\n",
    "W_hidden, W_out = prop(lr, epochs, noise)"
   ]
  },
  {
   "cell_type": "code",
   "execution_count": 3,
   "metadata": {},
   "outputs": [
    {
     "name": "stdout",
     "output_type": "stream",
     "text": [
      "Hidden Weights (w1, w2, w3, w4) : 6.142149472398691, 1.2654245034000071, 6.147122724545963, 1.2654774085108875\n",
      "Output Weights (w5, w6)         : -11.762570953907252, 13.770285245955472\n"
     ]
    }
   ],
   "source": [
    "print(\"Hidden Weights (w1, w2, w3, w4) : {}, {}, {}, {}\".format(W_hidden[0][0], W_hidden[0][1], W_hidden[1][0], W_hidden[1][1]))\n",
    "print(\"Output Weights (w5, w6)         : {}, {}\".format(W_out[0][0], W_out[1][0]))"
   ]
  },
  {
   "cell_type": "code",
   "execution_count": 7,
   "metadata": {},
   "outputs": [
    {
     "name": "stdout",
     "output_type": "stream",
     "text": [
      "[[ 0.99249807]\n",
      " [-0.99703143]\n",
      " [-0.99703119]\n",
      " [ 1.00391966]]\n"
     ]
    }
   ],
   "source": [
    "print(predict([[1,1],[0,1],[1,0],[0,0]],W_hidden,W_out))"
   ]
  }
 ],
 "metadata": {
  "kernelspec": {
   "display_name": "Python 3.10.5 64-bit",
   "language": "python",
   "name": "python3"
  },
  "language_info": {
   "codemirror_mode": {
    "name": "ipython",
    "version": 3
   },
   "file_extension": ".py",
   "mimetype": "text/x-python",
   "name": "python",
   "nbconvert_exporter": "python",
   "pygments_lexer": "ipython3",
   "version": "3.10.5"
  },
  "orig_nbformat": 4,
  "vscode": {
   "interpreter": {
    "hash": "80ca3b8c96389472cfc8a3d17b6b6c30e7062ea14d74503373ed131c0d8a118b"
   }
  }
 },
 "nbformat": 4,
 "nbformat_minor": 2
}
